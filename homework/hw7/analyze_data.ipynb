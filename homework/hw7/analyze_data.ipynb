{
 "cells": [
  {
   "cell_type": "code",
   "execution_count": 5,
   "metadata": {},
   "outputs": [],
   "source": [
    "import pickle\n",
    "import sys\n",
    "import os\n",
    "\n",
    "import matplotlib.pyplot as plt"
   ]
  },
  {
   "cell_type": "code",
   "execution_count": 14,
   "metadata": {},
   "outputs": [
    {
     "name": "stdout",
     "output_type": "stream",
     "text": [
      "89.81\n"
     ]
    }
   ],
   "source": [
    "val_file = 'cifar10_val_accuracy.pkl'\n",
    "with open(val_file, 'rb') as f:\n",
    "    val_accuracy = pickle.load(f)\n",
    "    \n",
    "print(val_accuracy[-1])"
   ]
  },
  {
   "cell_type": "code",
   "execution_count": 15,
   "metadata": {},
   "outputs": [
    {
     "name": "stdout",
     "output_type": "stream",
     "text": [
      "86.3\n"
     ]
    }
   ],
   "source": [
    "val_file = 'GAN_val_accuracy249.pkl'\n",
    "with open(val_file, 'rb') as f:\n",
    "    val_accuracy = pickle.load(f)\n",
    "    \n",
    "print(val_accuracy[-1])"
   ]
  }
 ],
 "metadata": {
  "kernelspec": {
   "display_name": "Python 3",
   "language": "python",
   "name": "python3"
  },
  "language_info": {
   "codemirror_mode": {
    "name": "ipython",
    "version": 3
   },
   "file_extension": ".py",
   "mimetype": "text/x-python",
   "name": "python",
   "nbconvert_exporter": "python",
   "pygments_lexer": "ipython3",
   "version": "3.7.5"
  }
 },
 "nbformat": 4,
 "nbformat_minor": 2
}
